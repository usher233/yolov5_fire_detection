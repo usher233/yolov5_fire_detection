{
  "nbformat": 4,
  "nbformat_minor": 0,
  "metadata": {
    "colab": {
      "name": "yolov5-fire-detection-main.ipynb",
      "provenance": [],
      "mount_file_id": "1pilELjmLVV5vXDGbn8teQqAebcPox2bK",
      "authorship_tag": "ABX9TyPxtAnaEek4+zzEk1jAsA4Z",
      "include_colab_link": true
    },
    "kernelspec": {
      "name": "python3",
      "display_name": "Python 3"
    },
    "language_info": {
      "name": "python"
    },
    "accelerator": "GPU"
  },
  "cells": [
    {
      "cell_type": "markdown",
      "metadata": {
        "id": "view-in-github",
        "colab_type": "text"
      },
      "source": [
        "<a href=\"https://colab.research.google.com/github/usher233/yolov5_fire_detection/blob/main/yolov5_fire_detection_main.ipynb\" target=\"_parent\"><img src=\"https://colab.research.google.com/assets/colab-badge.svg\" alt=\"Open In Colab\"/></a>"
      ]
    },
    {
      "cell_type": "code",
      "source": [
        "# Copyright 2022 YuhangWu. All rights reserved.\n",
        "# You may not utilize this notebook without citation"
      ],
      "metadata": {
        "id": "HAyYAK_wycRT"
      },
      "execution_count": 16,
      "outputs": []
    },
    {
      "cell_type": "markdown",
      "source": [
        "# 转移到yolo文件夹\n",
        "switch to folder yolo"
      ],
      "metadata": {
        "id": "YKcSNHkApytF"
      }
    },
    {
      "cell_type": "code",
      "execution_count": 4,
      "metadata": {
        "colab": {
          "base_uri": "https://localhost:8080/"
        },
        "id": "fdq5jgeelvQ2",
        "outputId": "1752f88b-8090-4689-bfa5-db475d4afdc3"
      },
      "outputs": [
        {
          "output_type": "stream",
          "name": "stdout",
          "text": [
            "/content/drive/MyDrive/AI_learning/yolo\n",
            " \u001b[0m\u001b[01;34mdataset_mask\u001b[0m/             fire_detection.tar   \u001b[01;34myolov5\u001b[0m/\n",
            "'fire_detection (1).tar'   Untitled0.ipynb      yolov5.ipynb\n"
          ]
        }
      ],
      "source": [
        "#%cd /content/drive/MyDrive/AI_learning/yolo\n",
        "#%ls"
      ]
    },
    {
      "cell_type": "markdown",
      "source": [
        "# 解压准备好的火焰数据集\n",
        "Unpack the prepared dataset"
      ],
      "metadata": {
        "id": "bET8c06Op9jC"
      }
    },
    {
      "cell_type": "code",
      "source": [
        "#!tar -zxvf fire_detection.tar"
      ],
      "metadata": {
        "id": "WjDyZhAIncEI"
      },
      "execution_count": null,
      "outputs": []
    },
    {
      "cell_type": "markdown",
      "source": [
        "# 测试预训练yolov5s模型\n",
        "Test the pretrained yolov5s model"
      ],
      "metadata": {
        "id": "UVkExD3tsBfy"
      }
    },
    {
      "cell_type": "code",
      "source": [
        "#!python yolov5/detect.py --source 'Fire_and_smoke_dataset/JPEGImages/00000.jpg' --weights yolov5/yolov5s.pt"
      ],
      "metadata": {
        "colab": {
          "base_uri": "https://localhost:8080/"
        },
        "id": "FETNrBgIsBCC",
        "outputId": "7f370e0c-ad32-47cc-ddcf-9b5435968409"
      },
      "execution_count": 13,
      "outputs": [
        {
          "output_type": "stream",
          "name": "stdout",
          "text": [
            "\u001b[34m\u001b[1mdetect: \u001b[0mweights=['yolov5s.pt'], source=Fire_and_smoke_dataset/JPEGImages/00000.jpg, data=yolov5/data/coco128.yaml, imgsz=[640, 640], conf_thres=0.25, iou_thres=0.45, max_det=1000, device=, view_img=False, save_txt=False, save_conf=False, save_crop=False, nosave=False, classes=None, agnostic_nms=False, augment=False, visualize=False, update=False, project=yolov5/runs/detect, name=exp, exist_ok=False, line_thickness=3, hide_labels=False, hide_conf=False, half=False, dnn=False\n",
            "YOLOv5 🚀 v6.1-159-gc16671f torch 1.11.0+cu113 CPU\n",
            "\n",
            "Fusing layers... \n",
            "YOLOv5s summary: 213 layers, 7225885 parameters, 0 gradients\n",
            "image 1/1 /content/drive/MyDrive/AI_learning/yolo/Fire_and_smoke_dataset/JPEGImages/00000.jpg: 480x640 Done. (0.365s)\n",
            "Speed: 1.9ms pre-process, 365.0ms inference, 1.0ms NMS per image at shape (1, 3, 640, 640)\n",
            "Results saved to \u001b[1myolov5/runs/detect/exp14\u001b[0m\n"
          ]
        }
      ]
    },
    {
      "cell_type": "code",
      "source": [
        "#from IPython import display\n",
        "#display.Image(filename='yolov5/runs/detect/exp14/00000.jpg', width=600)"
      ],
      "metadata": {
        "colab": {
          "base_uri": "https://localhost:8080/",
          "height": 466
        },
        "id": "PSK3VXnMvXQF",
        "outputId": "2928f64e-c1a3-49fe-dcd5-c78fa3b223a2"
      },
      "execution_count": 22,
      "outputs": [
        {
          "output_type": "execute_result",
          "data": {
            "text/plain": [
              "<IPython.core.display.Image object>"
            ],
            "image/jpeg": "[encoded data removed]"
          },
          "metadata": {
            "image/jpeg": {
              "width": 600
            }
          },
          "execution_count": 22
        }
      ]
    },
    {
      "cell_type": "markdown",
      "source": [
        "可以看到并没有对火焰进行标注\n",
        "\n",
        "It can be seen that the flame is not annotated"
      ],
      "metadata": {
        "id": "B8IkQfXqxCXW"
      }
    },
    {
      "cell_type": "markdown",
      "source": [
        "# 将VOC类型的数据集改写成YOLO\n",
        "voc2yolo"
      ],
      "metadata": {
        "id": "r9zfSHGTEzLJ"
      }
    },
    {
      "cell_type": "code",
      "source": [
        "%cd /content/drive/MyDrive/AI_learning/yolo"
      ],
      "metadata": {
        "colab": {
          "base_uri": "https://localhost:8080/"
        },
        "id": "ZWB7mszWQR5H",
        "outputId": "12ad29d7-b536-495b-f361-5cb338e709e0"
      },
      "execution_count": 12,
      "outputs": [
        {
          "output_type": "stream",
          "name": "stdout",
          "text": [
            "/content/drive/MyDrive/AI_learning/yolo\n"
          ]
        }
      ]
    },
    {
      "cell_type": "code",
      "source": [
        "!pip install roboflow\n",
        "\n",
        "from roboflow import Roboflow\n",
        "rf = Roboflow(api_key=\"fNNHtGr2P2uhSjhp0v6q\")\n",
        "project = rf.workspace(\"yolov5sfire\").project(\"voc2020\")\n",
        "dataset = project.version(1).download(\"yolov5\")"
      ],
      "metadata": {
        "colab": {
          "base_uri": "https://localhost:8080/"
        },
        "id": "t3T0kDSAMbsv",
        "outputId": "9949dba2-3216-4290-8ac2-0201b7e2ee20"
      },
      "execution_count": 13,
      "outputs": [
        {
          "output_type": "stream",
          "name": "stdout",
          "text": [
            "Requirement already satisfied: roboflow in /usr/local/lib/python3.7/dist-packages (0.2.4)\n",
            "Requirement already satisfied: Pillow>=7.1.2 in /usr/local/lib/python3.7/dist-packages (from roboflow) (7.1.2)\n",
            "Requirement already satisfied: python-dotenv in /usr/local/lib/python3.7/dist-packages (from roboflow) (0.20.0)\n",
            "Requirement already satisfied: urllib3==1.26.6 in /usr/local/lib/python3.7/dist-packages (from roboflow) (1.26.6)\n",
            "Requirement already satisfied: chardet==4.0.0 in /usr/local/lib/python3.7/dist-packages (from roboflow) (4.0.0)\n",
            "Requirement already satisfied: certifi==2021.5.30 in /usr/local/lib/python3.7/dist-packages (from roboflow) (2021.5.30)\n",
            "Requirement already satisfied: matplotlib in /usr/local/lib/python3.7/dist-packages (from roboflow) (3.2.2)\n",
            "Requirement already satisfied: numpy>=1.18.5 in /usr/local/lib/python3.7/dist-packages (from roboflow) (1.21.6)\n",
            "Requirement already satisfied: kiwisolver==1.3.1 in /usr/local/lib/python3.7/dist-packages (from roboflow) (1.3.1)\n",
            "Requirement already satisfied: tqdm>=4.41.0 in /usr/local/lib/python3.7/dist-packages (from roboflow) (4.64.0)\n",
            "Requirement already satisfied: requests in /usr/local/lib/python3.7/dist-packages (from roboflow) (2.27.1)\n",
            "Requirement already satisfied: requests-toolbelt in /usr/local/lib/python3.7/dist-packages (from roboflow) (0.9.1)\n",
            "Requirement already satisfied: cycler==0.10.0 in /usr/local/lib/python3.7/dist-packages (from roboflow) (0.10.0)\n",
            "Requirement already satisfied: idna==2.10 in /usr/local/lib/python3.7/dist-packages (from roboflow) (2.10)\n",
            "Requirement already satisfied: PyYAML>=5.3.1 in /usr/local/lib/python3.7/dist-packages (from roboflow) (6.0)\n",
            "Requirement already satisfied: python-dateutil in /usr/local/lib/python3.7/dist-packages (from roboflow) (2.8.2)\n",
            "Requirement already satisfied: six in /usr/local/lib/python3.7/dist-packages (from roboflow) (1.15.0)\n",
            "Requirement already satisfied: opencv-python>=4.1.2 in /usr/local/lib/python3.7/dist-packages (from roboflow) (4.1.2.30)\n",
            "Requirement already satisfied: wget in /usr/local/lib/python3.7/dist-packages (from roboflow) (3.2)\n",
            "Requirement already satisfied: pyparsing==2.4.7 in /usr/local/lib/python3.7/dist-packages (from roboflow) (2.4.7)\n",
            "Requirement already satisfied: charset-normalizer~=2.0.0 in /usr/local/lib/python3.7/dist-packages (from requests->roboflow) (2.0.12)\n",
            "loading Roboflow workspace...\n",
            "loading Roboflow project...\n",
            "Downloading Dataset Version Zip in VOC2020-1 to yolov5pytorch: 100% [118551857 / 118551857] bytes\n"
          ]
        },
        {
          "output_type": "stream",
          "name": "stderr",
          "text": [
            "Extracting Dataset Version Zip to VOC2020-1 in yolov5pytorch:: 100%|██████████| 6732/6732 [00:47<00:00, 141.02it/s]\n"
          ]
        }
      ]
    },
    {
      "cell_type": "markdown",
      "source": [
        "# 训练一个基于yolov5s的火焰烟雾检测网络\n",
        "Training a yolov5s-based flame and smoke detection network"
      ],
      "metadata": {
        "id": "hrKDuXewxH6M"
      }
    },
    {
      "cell_type": "code",
      "source": [
        "%cd /content/drive/MyDrive/AI_learning/yolo/yolov5"
      ],
      "metadata": {
        "colab": {
          "base_uri": "https://localhost:8080/"
        },
        "id": "iBCtW9zaKQ9T",
        "outputId": "ef55b092-6e12-4e81-95cc-efdf04412245"
      },
      "execution_count": 8,
      "outputs": [
        {
          "output_type": "stream",
          "name": "stdout",
          "text": [
            "/content/drive/MyDrive/AI_learning/yolo/yolov5\n"
          ]
        }
      ]
    },
    {
      "cell_type": "code",
      "source": [
        "!python /content/drive/MyDrive/AI_learning/yolo/yolov5/train.py --batch-size 64 --weights yolov5s.pt --data /content/drive/MyDrive/AI_learning/yolo/VOC2020-1/data.yaml --epochs 40 --cfg /content/drive/MyDrive/AI_learning/yolo/yolov5/models/yolov5s.yaml\n",
        "#注意改写yaml文件的nc（num_classes）"
      ],
      "metadata": {
        "colab": {
          "base_uri": "https://localhost:8080/"
        },
        "id": "-lgZvv2xxWlN",
        "outputId": "a3be095c-fe39-4af4-e0db-48aa196e3835"
      },
      "execution_count": 15,
      "outputs": [
        {
          "output_type": "stream",
          "name": "stdout",
          "text": [
            "\u001b[34m\u001b[1mtrain: \u001b[0mweights=yolov5s.pt, cfg=/content/drive/MyDrive/AI_learning/yolo/yolov5/models/yolov5s.yaml, data=/content/drive/MyDrive/AI_learning/yolo/VOC2020-1/data.yaml, hyp=yolov5/data/hyps/hyp.scratch-low.yaml, epochs=40, batch_size=64, imgsz=640, rect=False, resume=False, nosave=False, noval=False, noautoanchor=False, noplots=False, evolve=None, bucket=, cache=None, image_weights=False, device=, multi_scale=False, single_cls=False, optimizer=SGD, sync_bn=False, workers=8, project=yolov5/runs/train, name=exp, exist_ok=False, quad=False, cos_lr=False, label_smoothing=0.0, patience=100, freeze=[0], save_period=-1, local_rank=-1, entity=None, upload_dataset=False, bbox_interval=-1, artifact_alias=latest\n",
            "remote: Enumerating objects: 4, done.\u001b[K\n",
            "remote: Counting objects: 100% (4/4), done.\u001b[K\n",
            "remote: Compressing objects: 100% (4/4), done.\u001b[K\n",
            "remote: Total 4 (delta 0), reused 0 (delta 0), pack-reused 0\u001b[K\n",
            "Unpacking objects: 100% (4/4), done.\n",
            "From https://github.com/ultralytics/yolov5\n",
            "   2b64b45..05d4fc9  master     -> origin/master\n",
            "\u001b[34m\u001b[1mgithub: \u001b[0m⚠️ YOLOv5 is out of date by 35 commits. Use `git pull` or `git clone https://github.com/ultralytics/yolov5` to update.\n",
            "YOLOv5 🚀 v6.1-159-gc16671f torch 1.11.0+cu113 CUDA:0 (Tesla T4, 15110MiB)\n",
            "\n",
            "\u001b[34m\u001b[1mhyperparameters: \u001b[0mlr0=0.01, lrf=0.01, momentum=0.937, weight_decay=0.0005, warmup_epochs=3.0, warmup_momentum=0.8, warmup_bias_lr=0.1, box=0.05, cls=0.5, cls_pw=1.0, obj=1.0, obj_pw=1.0, iou_t=0.2, anchor_t=4.0, fl_gamma=0.0, hsv_h=0.015, hsv_s=0.7, hsv_v=0.4, degrees=0.0, translate=0.1, scale=0.5, shear=0.0, perspective=0.0, flipud=0.0, fliplr=0.5, mosaic=1.0, mixup=0.0, copy_paste=0.0\n",
            "\u001b[34m\u001b[1mWeights & Biases: \u001b[0mrun 'pip install wandb' to automatically track and visualize YOLOv5 🚀 runs (RECOMMENDED)\n",
            "\u001b[34m\u001b[1mTensorBoard: \u001b[0mStart with 'tensorboard --logdir yolov5/runs/train', view at http://localhost:6006/\n",
            "Downloading https://ultralytics.com/assets/Arial.ttf to /root/.config/Ultralytics/Arial.ttf...\n",
            "100% 755k/755k [00:00<00:00, 17.1MB/s]\n",
            "Downloading https://github.com/ultralytics/yolov5/releases/download/v6.1/yolov5s.pt to yolov5s.pt...\n",
            "100% 14.1M/14.1M [00:00<00:00, 115MB/s] \n",
            "\n",
            "\n",
            "                 from  n    params  module                                  arguments                     \n",
            "  0                -1  1      3520  models.common.Conv                      [3, 32, 6, 2, 2]              \n",
            "  1                -1  1     18560  models.common.Conv                      [32, 64, 3, 2]                \n",
            "  2                -1  1     18816  models.common.C3                        [64, 64, 1]                   \n",
            "  3                -1  1     73984  models.common.Conv                      [64, 128, 3, 2]               \n",
            "  4                -1  2    115712  models.common.C3                        [128, 128, 2]                 \n",
            "  5                -1  1    295424  models.common.Conv                      [128, 256, 3, 2]              \n",
            "  6                -1  3    625152  models.common.C3                        [256, 256, 3]                 \n",
            "  7                -1  1   1180672  models.common.Conv                      [256, 512, 3, 2]              \n",
            "  8                -1  1   1182720  models.common.C3                        [512, 512, 1]                 \n",
            "  9                -1  1    656896  models.common.SPPF                      [512, 512, 5]                 \n",
            " 10                -1  1    131584  models.common.Conv                      [512, 256, 1, 1]              \n",
            " 11                -1  1         0  torch.nn.modules.upsampling.Upsample    [None, 2, 'nearest']          \n",
            " 12           [-1, 6]  1         0  models.common.Concat                    [1]                           \n",
            " 13                -1  1    361984  models.common.C3                        [512, 256, 1, False]          \n",
            " 14                -1  1     33024  models.common.Conv                      [256, 128, 1, 1]              \n",
            " 15                -1  1         0  torch.nn.modules.upsampling.Upsample    [None, 2, 'nearest']          \n",
            " 16           [-1, 4]  1         0  models.common.Concat                    [1]                           \n",
            " 17                -1  1     90880  models.common.C3                        [256, 128, 1, False]          \n",
            " 18                -1  1    147712  models.common.Conv                      [128, 128, 3, 2]              \n",
            " 19          [-1, 14]  1         0  models.common.Concat                    [1]                           \n",
            " 20                -1  1    296448  models.common.C3                        [256, 256, 1, False]          \n",
            " 21                -1  1    590336  models.common.Conv                      [256, 256, 3, 2]              \n",
            " 22          [-1, 10]  1         0  models.common.Concat                    [1]                           \n",
            " 23                -1  1   1182720  models.common.C3                        [512, 512, 1, False]          \n",
            " 24      [17, 20, 23]  1     16182  models.yolo.Detect                      [1, [[10, 13, 16, 30, 33, 23], [30, 61, 62, 45, 59, 119], [116, 90, 156, 198, 373, 326]], [128, 256, 512]]\n",
            "YOLOv5s summary: 270 layers, 7022326 parameters, 7022326 gradients\n",
            "\n",
            "Transferred 342/349 items from yolov5s.pt\n",
            "Scaled weight_decay = 0.0005\n",
            "\u001b[34m\u001b[1moptimizer:\u001b[0m SGD with parameter groups 57 weight (no decay), 60 weight, 60 bias\n",
            "\u001b[34m\u001b[1malbumentations: \u001b[0mversion 1.0.3 required by YOLOv5, but version 0.1.12 is currently installed\n",
            "\u001b[34m\u001b[1mtrain: \u001b[0mScanning '/content/drive/MyDrive/AI_learning/yolo/yolov5/VOC2020-1/train/labels' images and labels...2756 found, 0 missing, 85 empty, 0 corrupt: 100% 2756/2756 [00:10<00:00, 259.34it/s]\n",
            "\u001b[34m\u001b[1mtrain: \u001b[0mNew cache created: /content/drive/MyDrive/AI_learning/yolo/yolov5/VOC2020-1/train/labels.cache\n",
            "\u001b[34m\u001b[1mval: \u001b[0mScanning '/content/drive/MyDrive/AI_learning/yolo/yolov5/VOC2020-1/valid/labels' images and labels...405 found, 0 missing, 10 empty, 0 corrupt: 100% 405/405 [00:02<00:00, 151.47it/s]\n",
            "\u001b[34m\u001b[1mval: \u001b[0mNew cache created: /content/drive/MyDrive/AI_learning/yolo/yolov5/VOC2020-1/valid/labels.cache\n",
            "Plotting labels to yolov5/runs/train/exp3/labels.jpg... \n",
            "\n",
            "\u001b[34m\u001b[1mAutoAnchor: \u001b[0m4.64 anchors/target, 0.999 Best Possible Recall (BPR). Current anchors are a good fit to dataset ✅\n",
            "Image sizes 640 train, 640 val\n",
            "Using 2 dataloader workers\n",
            "Logging results to \u001b[1myolov5/runs/train/exp3\u001b[0m\n",
            "Starting training for 40 epochs...\n",
            "\n",
            "     Epoch   gpu_mem       box       obj       cls    labels  img_size\n",
            "      0/39     14.2G   0.09202   0.03242         0        13       640: 100% 44/44 [01:28<00:00,  2.00s/it]\n",
            "               Class     Images     Labels          P          R     mAP@.5 mAP@.5:.95: 100% 4/4 [00:06<00:00,  1.70s/it]\n",
            "                 all        405        631      0.168        0.2     0.0803     0.0198\n",
            "\n",
            "     Epoch   gpu_mem       box       obj       cls    labels  img_size\n",
            "      1/39     11.7G   0.06216   0.02696         0        13       640: 100% 44/44 [01:29<00:00,  2.02s/it]\n",
            "               Class     Images     Labels          P          R     mAP@.5 mAP@.5:.95: 100% 4/4 [00:04<00:00,  1.24s/it]\n",
            "                 all        405        631      0.174      0.319      0.106     0.0236\n",
            "\n",
            "     Epoch   gpu_mem       box       obj       cls    labels  img_size\n",
            "      2/39     11.7G    0.0539   0.02436         0        16       640: 100% 44/44 [01:28<00:00,  2.01s/it]\n",
            "               Class     Images     Labels          P          R     mAP@.5 mAP@.5:.95: 100% 4/4 [00:04<00:00,  1.19s/it]\n",
            "                 all        405        631      0.374      0.404      0.309      0.114\n",
            "\n",
            "     Epoch   gpu_mem       box       obj       cls    labels  img_size\n",
            "      3/39     11.7G   0.04987   0.02344         0        10       640: 100% 44/44 [01:29<00:00,  2.04s/it]\n",
            "               Class     Images     Labels          P          R     mAP@.5 mAP@.5:.95: 100% 4/4 [00:04<00:00,  1.10s/it]\n",
            "                 all        405        631      0.443      0.376       0.34       0.12\n",
            "\n",
            "     Epoch   gpu_mem       box       obj       cls    labels  img_size\n",
            "      4/39     11.7G   0.04597   0.02307         0        11       640: 100% 44/44 [01:30<00:00,  2.05s/it]\n",
            "               Class     Images     Labels          P          R     mAP@.5 mAP@.5:.95: 100% 4/4 [00:04<00:00,  1.10s/it]\n",
            "                 all        405        631      0.475      0.531      0.481      0.184\n",
            "\n",
            "     Epoch   gpu_mem       box       obj       cls    labels  img_size\n",
            "      5/39     11.7G   0.04525   0.02269         0        14       640: 100% 44/44 [01:29<00:00,  2.03s/it]\n",
            "               Class     Images     Labels          P          R     mAP@.5 mAP@.5:.95: 100% 4/4 [00:04<00:00,  1.15s/it]\n",
            "                 all        405        631      0.496      0.456       0.41      0.149\n",
            "\n",
            "     Epoch   gpu_mem       box       obj       cls    labels  img_size\n",
            "      6/39     11.7G   0.04381   0.02217         0        10       640: 100% 44/44 [01:30<00:00,  2.06s/it]\n",
            "               Class     Images     Labels          P          R     mAP@.5 mAP@.5:.95: 100% 4/4 [00:04<00:00,  1.15s/it]\n",
            "                 all        405        631      0.539      0.571      0.517      0.196\n",
            "\n",
            "     Epoch   gpu_mem       box       obj       cls    labels  img_size\n",
            "      7/39     11.7G   0.04166   0.02189         0        17       640: 100% 44/44 [01:27<00:00,  1.99s/it]\n",
            "               Class     Images     Labels          P          R     mAP@.5 mAP@.5:.95: 100% 4/4 [00:04<00:00,  1.12s/it]\n",
            "                 all        405        631      0.556      0.582      0.539      0.217\n",
            "\n",
            "     Epoch   gpu_mem       box       obj       cls    labels  img_size\n",
            "      8/39     11.7G   0.04103   0.02067         0        12       640: 100% 44/44 [01:29<00:00,  2.04s/it]\n",
            "               Class     Images     Labels          P          R     mAP@.5 mAP@.5:.95: 100% 4/4 [00:04<00:00,  1.15s/it]\n",
            "                 all        405        631       0.59      0.487      0.486      0.204\n",
            "\n",
            "     Epoch   gpu_mem       box       obj       cls    labels  img_size\n",
            "      9/39     11.7G   0.03949   0.02151         0        17       640: 100% 44/44 [01:29<00:00,  2.03s/it]\n",
            "               Class     Images     Labels          P          R     mAP@.5 mAP@.5:.95: 100% 4/4 [00:04<00:00,  1.11s/it]\n",
            "                 all        405        631      0.569      0.525      0.515       0.22\n",
            "\n",
            "     Epoch   gpu_mem       box       obj       cls    labels  img_size\n",
            "     10/39     11.7G    0.0391   0.01999         0        13       640: 100% 44/44 [01:29<00:00,  2.04s/it]\n",
            "               Class     Images     Labels          P          R     mAP@.5 mAP@.5:.95: 100% 4/4 [00:04<00:00,  1.17s/it]\n",
            "                 all        405        631      0.565      0.553       0.52      0.219\n",
            "\n",
            "     Epoch   gpu_mem       box       obj       cls    labels  img_size\n",
            "     11/39     11.7G   0.03761    0.0202         0        17       640: 100% 44/44 [01:28<00:00,  2.01s/it]\n",
            "               Class     Images     Labels          P          R     mAP@.5 mAP@.5:.95: 100% 4/4 [00:04<00:00,  1.11s/it]\n",
            "                 all        405        631      0.571      0.626      0.546      0.245\n",
            "\n",
            "     Epoch   gpu_mem       box       obj       cls    labels  img_size\n",
            "     12/39     11.7G   0.03701   0.01933         0        12       640: 100% 44/44 [01:28<00:00,  2.02s/it]\n",
            "               Class     Images     Labels          P          R     mAP@.5 mAP@.5:.95: 100% 4/4 [00:04<00:00,  1.04s/it]\n",
            "                 all        405        631      0.617      0.609      0.587      0.258\n",
            "\n",
            "     Epoch   gpu_mem       box       obj       cls    labels  img_size\n",
            "     13/39     11.7G    0.0361   0.01962         0        16       640: 100% 44/44 [01:28<00:00,  2.02s/it]\n",
            "               Class     Images     Labels          P          R     mAP@.5 mAP@.5:.95: 100% 4/4 [00:04<00:00,  1.13s/it]\n",
            "                 all        405        630      0.609      0.581      0.548      0.224\n",
            "\n",
            "     Epoch   gpu_mem       box       obj       cls    labels  img_size\n",
            "     14/39     11.7G   0.03579   0.01937         0        27       640: 100% 44/44 [01:30<00:00,  2.06s/it]\n",
            "               Class     Images     Labels          P          R     mAP@.5 mAP@.5:.95: 100% 4/4 [00:04<00:00,  1.09s/it]\n",
            "                 all        405        631      0.551      0.547      0.513      0.212\n",
            "\n",
            "     Epoch   gpu_mem       box       obj       cls    labels  img_size\n",
            "     15/39     11.7G   0.03465   0.01831         0         9       640: 100% 44/44 [01:30<00:00,  2.05s/it]\n",
            "               Class     Images     Labels          P          R     mAP@.5 mAP@.5:.95: 100% 4/4 [00:04<00:00,  1.13s/it]\n",
            "                 all        405        631      0.624      0.566      0.563      0.245\n",
            "\n",
            "     Epoch   gpu_mem       box       obj       cls    labels  img_size\n",
            "     16/39     11.7G   0.03408   0.01843         0        12       640: 100% 44/44 [01:28<00:00,  2.02s/it]\n",
            "               Class     Images     Labels          P          R     mAP@.5 mAP@.5:.95: 100% 4/4 [00:04<00:00,  1.12s/it]\n",
            "                 all        405        630      0.619      0.565      0.563      0.233\n",
            "\n",
            "     Epoch   gpu_mem       box       obj       cls    labels  img_size\n",
            "     17/39     11.7G   0.03396    0.0183         0        19       640: 100% 44/44 [01:30<00:00,  2.05s/it]\n",
            "               Class     Images     Labels          P          R     mAP@.5 mAP@.5:.95: 100% 4/4 [00:04<00:00,  1.04s/it]\n",
            "                 all        405        631      0.673      0.559        0.6      0.272\n",
            "\n",
            "     Epoch   gpu_mem       box       obj       cls    labels  img_size\n",
            "     18/39     11.7G   0.03275   0.01853         0        18       640: 100% 44/44 [01:28<00:00,  2.01s/it]\n",
            "               Class     Images     Labels          P          R     mAP@.5 mAP@.5:.95: 100% 4/4 [00:04<00:00,  1.05s/it]\n",
            "                 all        405        631       0.58       0.61      0.563      0.246\n",
            "\n",
            "     Epoch   gpu_mem       box       obj       cls    labels  img_size\n",
            "     19/39     11.7G   0.03233   0.01782         0        14       640: 100% 44/44 [01:28<00:00,  2.02s/it]\n",
            "               Class     Images     Labels          P          R     mAP@.5 mAP@.5:.95: 100% 4/4 [00:04<00:00,  1.02s/it]\n",
            "                 all        405        630      0.579      0.589      0.575      0.253\n",
            "\n",
            "     Epoch   gpu_mem       box       obj       cls    labels  img_size\n",
            "     20/39     11.7G   0.03138   0.01715         0         5       640: 100% 44/44 [01:29<00:00,  2.03s/it]\n",
            "               Class     Images     Labels          P          R     mAP@.5 mAP@.5:.95: 100% 4/4 [00:04<00:00,  1.10s/it]\n",
            "                 all        405        631       0.64      0.646      0.618      0.285\n",
            "\n",
            "     Epoch   gpu_mem       box       obj       cls    labels  img_size\n",
            "     21/39     11.7G   0.03083   0.01666         0        10       640: 100% 44/44 [01:28<00:00,  2.01s/it]\n",
            "               Class     Images     Labels          P          R     mAP@.5 mAP@.5:.95: 100% 4/4 [00:04<00:00,  1.12s/it]\n",
            "                 all        405        631      0.622      0.596      0.588       0.27\n",
            "\n",
            "     Epoch   gpu_mem       box       obj       cls    labels  img_size\n",
            "     22/39     11.7G   0.03036   0.01684         0        19       640: 100% 44/44 [01:29<00:00,  2.03s/it]\n",
            "               Class     Images     Labels          P          R     mAP@.5 mAP@.5:.95: 100% 4/4 [00:03<00:00,  1.03it/s]\n",
            "                 all        405        629      0.654      0.556      0.581       0.26\n",
            "\n",
            "     Epoch   gpu_mem       box       obj       cls    labels  img_size\n",
            "     23/39     11.7G   0.02993   0.01606         0        13       640: 100% 44/44 [01:29<00:00,  2.03s/it]\n",
            "               Class     Images     Labels          P          R     mAP@.5 mAP@.5:.95: 100% 4/4 [00:04<00:00,  1.13s/it]\n",
            "                 all        405        631      0.564      0.656      0.588      0.268\n",
            "\n",
            "     Epoch   gpu_mem       box       obj       cls    labels  img_size\n",
            "     24/39     11.7G    0.0289   0.01645         0        14       640: 100% 44/44 [01:29<00:00,  2.03s/it]\n",
            "               Class     Images     Labels          P          R     mAP@.5 mAP@.5:.95: 100% 4/4 [00:04<00:00,  1.05s/it]\n",
            "                 all        405        631      0.586       0.61      0.571       0.26\n",
            "\n",
            "     Epoch   gpu_mem       box       obj       cls    labels  img_size\n",
            "     25/39     11.7G   0.02858   0.01616         0        15       640: 100% 44/44 [01:29<00:00,  2.04s/it]\n",
            "               Class     Images     Labels          P          R     mAP@.5 mAP@.5:.95: 100% 4/4 [00:04<00:00,  1.02s/it]\n",
            "                 all        405        629      0.629      0.606      0.589      0.271\n",
            "\n",
            "     Epoch   gpu_mem       box       obj       cls    labels  img_size\n",
            "     26/39     11.7G   0.02809   0.01558         0        13       640: 100% 44/44 [01:30<00:00,  2.05s/it]\n",
            "               Class     Images     Labels          P          R     mAP@.5 mAP@.5:.95: 100% 4/4 [00:03<00:00,  1.01it/s]\n",
            "                 all        405        631      0.643       0.61      0.599      0.278\n",
            "\n",
            "     Epoch   gpu_mem       box       obj       cls    labels  img_size\n",
            "     27/39     11.7G   0.02773   0.01544         0        10       640: 100% 44/44 [01:29<00:00,  2.04s/it]\n",
            "               Class     Images     Labels          P          R     mAP@.5 mAP@.5:.95: 100% 4/4 [00:04<00:00,  1.12s/it]\n",
            "                 all        405        631      0.672      0.588      0.599      0.282\n",
            "\n",
            "     Epoch   gpu_mem       box       obj       cls    labels  img_size\n",
            "     28/39     11.7G   0.02711   0.01521         0        10       640: 100% 44/44 [01:29<00:00,  2.04s/it]\n",
            "               Class     Images     Labels          P          R     mAP@.5 mAP@.5:.95: 100% 4/4 [00:04<00:00,  1.03s/it]\n",
            "                 all        405        631      0.649      0.604      0.615      0.287\n",
            "\n",
            "     Epoch   gpu_mem       box       obj       cls    labels  img_size\n",
            "     29/39     11.7G   0.02638   0.01476         0        11       640: 100% 44/44 [01:33<00:00,  2.11s/it]\n",
            "               Class     Images     Labels          P          R     mAP@.5 mAP@.5:.95: 100% 4/4 [00:04<00:00,  1.21s/it]\n",
            "                 all        405        631      0.636      0.648      0.616      0.291\n",
            "\n",
            "     Epoch   gpu_mem       box       obj       cls    labels  img_size\n",
            "     30/39     11.7G   0.02598   0.01476         0        15       640: 100% 44/44 [01:34<00:00,  2.14s/it]\n",
            "               Class     Images     Labels          P          R     mAP@.5 mAP@.5:.95: 100% 4/4 [00:04<00:00,  1.18s/it]\n",
            "                 all        405        631       0.61      0.667      0.607      0.282\n",
            "\n",
            "     Epoch   gpu_mem       box       obj       cls    labels  img_size\n",
            "     31/39     11.7G   0.02535   0.01463         0         8       640: 100% 44/44 [01:34<00:00,  2.15s/it]\n",
            "               Class     Images     Labels          P          R     mAP@.5 mAP@.5:.95: 100% 4/4 [00:04<00:00,  1.15s/it]\n",
            "                 all        405        631      0.636      0.605        0.6      0.287\n",
            "\n",
            "     Epoch   gpu_mem       box       obj       cls    labels  img_size\n",
            "     32/39     11.7G   0.02533   0.01445         0        13       640: 100% 44/44 [01:36<00:00,  2.19s/it]\n",
            "               Class     Images     Labels          P          R     mAP@.5 mAP@.5:.95: 100% 4/4 [00:04<00:00,  1.17s/it]\n",
            "                 all        405        631      0.631       0.61      0.603      0.283\n",
            "\n",
            "     Epoch   gpu_mem       box       obj       cls    labels  img_size\n",
            "     33/39     11.7G   0.02421   0.01412         0        13       640: 100% 44/44 [01:29<00:00,  2.04s/it]\n",
            "               Class     Images     Labels          P          R     mAP@.5 mAP@.5:.95: 100% 4/4 [00:04<00:00,  1.09s/it]\n",
            "                 all        405        629      0.628      0.618      0.605      0.292\n",
            "\n",
            "     Epoch   gpu_mem       box       obj       cls    labels  img_size\n",
            "     34/39     11.7G   0.02425   0.01442         0        10       640: 100% 44/44 [01:30<00:00,  2.06s/it]\n",
            "               Class     Images     Labels          P          R     mAP@.5 mAP@.5:.95: 100% 4/4 [00:04<00:00,  1.13s/it]\n",
            "                 all        405        631      0.621      0.643      0.621      0.293\n",
            "\n",
            "     Epoch   gpu_mem       box       obj       cls    labels  img_size\n",
            "     35/39     11.7G   0.02391   0.01358         0         8       640: 100% 44/44 [01:29<00:00,  2.04s/it]\n",
            "               Class     Images     Labels          P          R     mAP@.5 mAP@.5:.95: 100% 4/4 [00:04<00:00,  1.04s/it]\n",
            "                 all        405        629      0.656       0.61      0.613        0.3\n",
            "\n",
            "     Epoch   gpu_mem       box       obj       cls    labels  img_size\n",
            "     36/39     11.7G   0.02342   0.01377         0        17       640: 100% 44/44 [01:28<00:00,  2.01s/it]\n",
            "               Class     Images     Labels          P          R     mAP@.5 mAP@.5:.95: 100% 4/4 [00:04<00:00,  1.13s/it]\n",
            "                 all        405        631      0.596      0.685      0.613      0.293\n",
            "\n",
            "     Epoch   gpu_mem       box       obj       cls    labels  img_size\n",
            "     37/39     11.7G   0.02311   0.01381         0        10       640: 100% 44/44 [01:32<00:00,  2.10s/it]\n",
            "               Class     Images     Labels          P          R     mAP@.5 mAP@.5:.95: 100% 4/4 [00:04<00:00,  1.22s/it]\n",
            "                 all        405        630       0.66      0.622      0.614      0.302\n",
            "\n",
            "     Epoch   gpu_mem       box       obj       cls    labels  img_size\n",
            "     38/39     11.7G   0.02286   0.01365         0        20       640: 100% 44/44 [01:30<00:00,  2.05s/it]\n",
            "               Class     Images     Labels          P          R     mAP@.5 mAP@.5:.95: 100% 4/4 [00:04<00:00,  1.18s/it]\n",
            "                 all        405        631      0.607       0.68      0.622      0.302\n",
            "\n",
            "     Epoch   gpu_mem       box       obj       cls    labels  img_size\n",
            "     39/39     11.7G   0.02239   0.01348         0        25       640: 100% 44/44 [01:28<00:00,  2.01s/it]\n",
            "               Class     Images     Labels          P          R     mAP@.5 mAP@.5:.95: 100% 4/4 [00:04<00:00,  1.07s/it]\n",
            "                 all        405        631      0.616       0.67      0.613      0.296\n",
            "\n",
            "40 epochs completed in 1.072 hours.\n",
            "Optimizer stripped from yolov5/runs/train/exp3/weights/last.pt, 14.4MB\n",
            "Optimizer stripped from yolov5/runs/train/exp3/weights/best.pt, 14.4MB\n",
            "\n",
            "Validating yolov5/runs/train/exp3/weights/best.pt...\n",
            "Fusing layers... \n",
            "YOLOv5s summary: 213 layers, 7012822 parameters, 0 gradients\n",
            "               Class     Images     Labels          P          R     mAP@.5 mAP@.5:.95: 100% 4/4 [00:08<00:00,  2.04s/it]\n",
            "                 all        405        631      0.615      0.669      0.622      0.302\n",
            "Results saved to \u001b[1myolov5/runs/train/exp3\u001b[0m\n"
          ]
        }
      ]
    },
    {
      "cell_type": "markdown",
      "source": [
        "# 火焰模型检测\n",
        "detect by firenet"
      ],
      "metadata": {
        "id": "M2efU1RXgLHd"
      }
    },
    {
      "cell_type": "code",
      "source": [
        "!python /content/drive/MyDrive/AI_learning/yolo/yolov5/detect.py --weights /content/drive/MyDrive/AI_learning/yolo/yolov5/runs/train/exp3/weights/best.pt --source /fire.gif\n"
      ],
      "metadata": {
        "id": "wSbmueGX-0UT"
      },
      "execution_count": null,
      "outputs": []
    },
    {
      "cell_type": "code",
      "source": [
        "!python /content/drive/MyDrive/AI_learning/yolo/yolov5/detect.py --weights /content/drive/MyDrive/AI_learning/yolo/yolov5/runs/train/exp3/weights/best.pt --source /firevideo.mp4"
      ],
      "metadata": {
        "id": "_PoAodishBZp"
      },
      "execution_count": null,
      "outputs": []
    }
  ]
}